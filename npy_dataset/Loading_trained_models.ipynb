{
 "cells": [
  {
   "cell_type": "code",
   "execution_count": 28,
   "id": "d38cdc57",
   "metadata": {},
   "outputs": [],
   "source": [
    "import numpy as np\n",
    "from sklearn.preprocessing import StandardScaler\n",
    "\n",
    "# Load .npy file\n",
    "back_data = np.load('./Back_model/back/back-14.csv_segment_12.npy',allow_pickle=True)\n",
    "forward_data = np.load('./Forward_model/forward/forward-11.csv_segment_0.npy',allow_pickle=True)\n",
    "right_data = np.load('./Right_model/right/right-19.csv_segment_3.npy',allow_pickle=True)\n",
    "left_data = np.load('./Left_model/left/left-18.csv_segment_13.npy',allow_pickle=True)\n",
    "up_data = np.load('./Up_model/up/up-18.csv_segment_9.npy',allow_pickle=True)\n",
    "down_data = np.load('./Down_model/down/down-19.csv_segment_12.npy',allow_pickle=True)"
   ]
  },
  {
   "cell_type": "code",
   "execution_count": 29,
   "id": "c691706b",
   "metadata": {},
   "outputs": [],
   "source": [
    "import keras\n",
    "\n",
    "# Load .h5 model\n",
    "Back_model = keras.models.load_model('cnn-back-model-acc-91.67.h5')\n",
    "Forward_model = keras.models.load_model('cnn-forward-model-acc-82.22.h5')\n",
    "Left_model = keras.models.load_model('cnn-left-model-acc-88.33.h5')\n",
    "Right_model = keras.models.load_model('cnn-right-model-acc-90.00.h5')\n",
    "Up_model = keras.models.load_model('cnn-up-model-acc-84.44.h5')\n",
    "Down_model = keras.models.load_model('cnn-down-model-acc-95.00.h5')"
   ]
  },
  {
   "cell_type": "code",
   "execution_count": 30,
   "id": "81281088",
   "metadata": {},
   "outputs": [
    {
     "name": "stdout",
     "output_type": "stream",
     "text": [
      "(256, 4) (256, 4) (256, 4) (256, 4) (256, 4) (256, 4)\n"
     ]
    }
   ],
   "source": [
    "print(back_data.shape,forward_data.shape,right_data.shape,left_data.shape,up_data.shape,down_data.shape)"
   ]
  },
  {
   "cell_type": "code",
   "execution_count": 31,
   "id": "96a13eb0",
   "metadata": {},
   "outputs": [],
   "source": [
    "scaler = StandardScaler()\n",
    "#Forward_data\n",
    "scaler.fit(forward_data)\n",
    "data = scaler.transform(forward_data)\n",
    "forward_data = np.array(data)\n",
    "forward_data = forward_data.reshape(1, 256, 4)\n",
    "\n",
    "#Back_data\n",
    "scaler = StandardScaler()\n",
    "scaler.fit(back_data)\n",
    "data = scaler.transform(back_data)\n",
    "back_data = np.array(data)\n",
    "back_data = back_data.reshape(1, 256, 4)\n",
    "\n",
    "#Left_data\n",
    "scaler = StandardScaler()\n",
    "scaler.fit(left_data)\n",
    "data = scaler.transform(left_data)\n",
    "left_data = np.array(data)\n",
    "left_data = left_data.reshape(1, 256, 4)\n",
    "\n",
    "#Right_data\n",
    "scaler = StandardScaler()\n",
    "scaler.fit(right_data)\n",
    "data = scaler.transform(right_data)\n",
    "right_data = np.array(data)\n",
    "right_data = right_data.reshape(1, 256, 4)\n",
    "\n",
    "#Down_data\n",
    "scaler = StandardScaler()\n",
    "scaler.fit(down_data)\n",
    "data = scaler.transform(down_data)\n",
    "down_data = np.array(data)\n",
    "down_data = down_data.reshape(1, 256, 4)\n",
    "\n",
    "#Up_data\n",
    "scaler = StandardScaler()\n",
    "scaler.fit(up_data)\n",
    "data = scaler.transform(up_data)\n",
    "up_data = np.array(data)\n",
    "up_data = up_data.reshape(1, 256, 4)"
   ]
  },
  {
   "cell_type": "code",
   "execution_count": 32,
   "id": "bcadfdcb",
   "metadata": {},
   "outputs": [
    {
     "name": "stdout",
     "output_type": "stream",
     "text": [
      "(1, 256, 4) (1, 256, 4) (1, 256, 4) (1, 256, 4) (1, 256, 4) (1, 256, 4)\n"
     ]
    }
   ],
   "source": [
    "print(back_data.shape,forward_data.shape,right_data.shape,left_data.shape,up_data.shape,down_data.shape)"
   ]
  },
  {
   "cell_type": "code",
   "execution_count": 41,
   "id": "373bb571",
   "metadata": {},
   "outputs": [
    {
     "name": "stdout",
     "output_type": "stream",
     "text": [
      "1\n"
     ]
    }
   ],
   "source": [
    "result = Forward_model.predict(right_data)\n",
    "result = np.argmax(result)\n",
    "print(result)"
   ]
  },
  {
   "cell_type": "code",
   "execution_count": 42,
   "id": "31cf19b7",
   "metadata": {},
   "outputs": [
    {
     "name": "stdout",
     "output_type": "stream",
     "text": [
      "1\n"
     ]
    }
   ],
   "source": [
    "result = Left_model.predict(up_data)\n",
    "result = np.argmax(result)\n",
    "print(result)"
   ]
  },
  {
   "cell_type": "code",
   "execution_count": 44,
   "id": "5ce762fd",
   "metadata": {},
   "outputs": [
    {
     "name": "stdout",
     "output_type": "stream",
     "text": [
      "1\n"
     ]
    }
   ],
   "source": [
    "result = Right_model.predict(right_data)\n",
    "result = np.argmax(result)\n",
    "print(result)"
   ]
  },
  {
   "cell_type": "code",
   "execution_count": 49,
   "id": "8b343606",
   "metadata": {},
   "outputs": [
    {
     "name": "stdout",
     "output_type": "stream",
     "text": [
      "1\n"
     ]
    }
   ],
   "source": [
    "result = Up_model.predict(right_data)\n",
    "result = np.argmax(result)\n",
    "print(result)"
   ]
  },
  {
   "cell_type": "code",
   "execution_count": 54,
   "id": "2c5bffb6",
   "metadata": {},
   "outputs": [
    {
     "name": "stdout",
     "output_type": "stream",
     "text": [
      "1\n"
     ]
    }
   ],
   "source": [
    "result = Back_model.predict(back_data)\n",
    "result = np.argmax(result)\n",
    "print(result)"
   ]
  },
  {
   "cell_type": "code",
   "execution_count": 59,
   "id": "99310065",
   "metadata": {},
   "outputs": [
    {
     "name": "stdout",
     "output_type": "stream",
     "text": [
      "1\n"
     ]
    }
   ],
   "source": [
    "result = Down_model.predict(right_data)\n",
    "result = np.argmax(result)\n",
    "print(result)"
   ]
  },
  {
   "cell_type": "code",
   "execution_count": null,
   "id": "90d88c3e",
   "metadata": {},
   "outputs": [],
   "source": []
  }
 ],
 "metadata": {
  "kernelspec": {
   "display_name": "Python 3 (ipykernel)",
   "language": "python",
   "name": "python3"
  },
  "language_info": {
   "codemirror_mode": {
    "name": "ipython",
    "version": 3
   },
   "file_extension": ".py",
   "mimetype": "text/x-python",
   "name": "python",
   "nbconvert_exporter": "python",
   "pygments_lexer": "ipython3",
   "version": "3.9.7"
  }
 },
 "nbformat": 4,
 "nbformat_minor": 5
}
